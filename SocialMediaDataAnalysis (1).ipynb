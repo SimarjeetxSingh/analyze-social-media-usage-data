{
 "cells": [
  {
   "cell_type": "markdown",
   "metadata": {},
   "source": [
    "# Clean & Analyze Social Media"
   ]
  },
  {
   "cell_type": "markdown",
   "metadata": {},
   "source": [
    "## Introduction\n",
    "\n",
    "Social media has become a ubiquitous part of modern life, with platforms such as Instagram, Twitter, and Facebook serving as essential communication channels. Social media data sets are vast and complex, making analysis a challenging task for businesses and researchers alike. In this project, we explore a simulated social media, for example Tweets, data set to understand trends in likes across different categories.\n",
    "\n",
    "## Prerequisites\n",
    "\n",
    "To follow along with this project, you should have a basic understanding of Python programming and data analysis concepts. In addition, you may want to use the following packages in your Python environment:\n",
    "\n",
    "- pandas\n",
    "- Matplotlib\n",
    "- ...\n",
    "\n",
    "These packages should already be installed in Coursera's Jupyter Notebook environment, however if you'd like to install additional packages that are not included in this environment or are working off platform you can install additional packages using `!pip install packagename` within a notebook cell such as:\n",
    "\n",
    "- `!pip install pandas`\n",
    "- `!pip install matplotlib`\n",
    "\n",
    "## Project Scope\n",
    "\n",
    "The objective of this project is to analyze tweets (or other social media data) and gain insights into user engagement. We will explore the data set using visualization techniques to understand the distribution of likes across different categories. Finally, we will analyze the data to draw conclusions about the most popular categories and the overall engagement on the platform.\n",
    "\n",
    "## Step 1: Importing Required Libraries\n",
    "\n",
    "As the name suggests, the first step is to import all the necessary libraries that will be used in the project. In this case, we need pandas, numpy, matplotlib, seaborn, and random libraries.\n",
    "\n",
    "Pandas is a library used for data manipulation and analysis. Numpy is a library used for numerical computations. Matplotlib is a library used for data visualization. Seaborn is a library used for statistical data visualization. Random is a library used to generate random numbers."
   ]
  },
  {
   "cell_type": "code",
   "execution_count": 1,
   "metadata": {},
   "outputs": [],
   "source": [
    "import pandas as pd\n",
    "import numpy as np\n",
    "import matplotlib.pyplot as plt\n",
    "import seaborn as sns\n",
    "import random\n"
   ]
  },
  {
   "cell_type": "code",
   "execution_count": 2,
   "metadata": {},
   "outputs": [
    {
     "data": {
      "text/html": [
       "<div>\n",
       "<style scoped>\n",
       "    .dataframe tbody tr th:only-of-type {\n",
       "        vertical-align: middle;\n",
       "    }\n",
       "\n",
       "    .dataframe tbody tr th {\n",
       "        vertical-align: top;\n",
       "    }\n",
       "\n",
       "    .dataframe thead th {\n",
       "        text-align: right;\n",
       "    }\n",
       "</style>\n",
       "<table border=\"1\" class=\"dataframe\">\n",
       "  <thead>\n",
       "    <tr style=\"text-align: right;\">\n",
       "      <th></th>\n",
       "      <th>Date</th>\n",
       "      <th>Category</th>\n",
       "      <th>Likes</th>\n",
       "    </tr>\n",
       "  </thead>\n",
       "  <tbody>\n",
       "    <tr>\n",
       "      <th>0</th>\n",
       "      <td>2021-01-01</td>\n",
       "      <td>Food</td>\n",
       "      <td>7439</td>\n",
       "    </tr>\n",
       "    <tr>\n",
       "      <th>1</th>\n",
       "      <td>2021-01-02</td>\n",
       "      <td>Travel</td>\n",
       "      <td>6673</td>\n",
       "    </tr>\n",
       "    <tr>\n",
       "      <th>2</th>\n",
       "      <td>2021-01-03</td>\n",
       "      <td>Fashion</td>\n",
       "      <td>7219</td>\n",
       "    </tr>\n",
       "    <tr>\n",
       "      <th>3</th>\n",
       "      <td>2021-01-04</td>\n",
       "      <td>Health</td>\n",
       "      <td>1304</td>\n",
       "    </tr>\n",
       "    <tr>\n",
       "      <th>4</th>\n",
       "      <td>2021-01-05</td>\n",
       "      <td>Fitness</td>\n",
       "      <td>2390</td>\n",
       "    </tr>\n",
       "  </tbody>\n",
       "</table>\n",
       "</div>"
      ],
      "text/plain": [
       "        Date Category  Likes\n",
       "0 2021-01-01     Food   7439\n",
       "1 2021-01-02   Travel   6673\n",
       "2 2021-01-03  Fashion   7219\n",
       "3 2021-01-04   Health   1304\n",
       "4 2021-01-05  Fitness   2390"
      ]
     },
     "execution_count": 2,
     "metadata": {},
     "output_type": "execute_result"
    }
   ],
   "source": [
    "# Define the categories\n",
    "categories = ['Food', 'Travel', 'Fashion', 'Fitness', 'Music', 'Culture', 'Family', 'Health']\n",
    "\n",
    "# Number of data points\n",
    "n = 500\n",
    "\n",
    "# Generate the data\n",
    "data = {\n",
    "    'Date': pd.date_range('2021-01-01', periods=n),\n",
    "    'Category': [random.choice(categories) for _ in range(n)],\n",
    "    'Likes': np.random.randint(0, 10000, size=n)\n",
    "}\n",
    "\n",
    "# Convert the data dictionary to a DataFrame\n",
    "df = pd.DataFrame(data)\n",
    "\n",
    "# Display the first few rows of the dataframe\n",
    "df.head()\n"
   ]
  },
  {
   "cell_type": "code",
   "execution_count": 3,
   "metadata": {},
   "outputs": [
    {
     "name": "stdout",
     "output_type": "stream",
     "text": [
      "        Date Category  Likes\n",
      "0 2021-01-01     Food   7439\n",
      "1 2021-01-02   Travel   6673\n",
      "2 2021-01-03  Fashion   7219\n",
      "3 2021-01-04   Health   1304\n",
      "4 2021-01-05  Fitness   2390\n",
      "<class 'pandas.core.frame.DataFrame'>\n",
      "RangeIndex: 500 entries, 0 to 499\n",
      "Data columns (total 3 columns):\n",
      " #   Column    Non-Null Count  Dtype         \n",
      "---  ------    --------------  -----         \n",
      " 0   Date      500 non-null    datetime64[ns]\n",
      " 1   Category  500 non-null    object        \n",
      " 2   Likes     500 non-null    int64         \n",
      "dtypes: datetime64[ns](1), int64(1), object(1)\n",
      "memory usage: 11.8+ KB\n",
      "None\n",
      "             Likes\n",
      "count   500.000000\n",
      "mean   5034.362000\n",
      "std    2852.549828\n",
      "min      24.000000\n",
      "25%    2537.250000\n",
      "50%    5072.500000\n",
      "75%    7433.250000\n",
      "max    9983.000000\n",
      "Travel     76\n",
      "Health     72\n",
      "Culture    67\n",
      "Music      62\n",
      "Family     59\n",
      "Food       58\n",
      "Fashion    53\n",
      "Fitness    53\n",
      "Name: Category, dtype: int64\n"
     ]
    }
   ],
   "source": [
    "# Load the data into a pandas dataframe (already done in the previous task)\n",
    "df = pd.DataFrame(data)\n",
    "\n",
    "# Print the dataframe head\n",
    "print(df.head())\n",
    "\n",
    "# Print dataframe info\n",
    "print(df.info())\n",
    "\n",
    "# Print dataframe description\n",
    "print(df.describe())\n",
    "\n",
    "# Print the count of each 'Category' element\n",
    "print(df['Category'].value_counts())\n"
   ]
  },
  {
   "cell_type": "code",
   "execution_count": 4,
   "metadata": {},
   "outputs": [
    {
     "name": "stdout",
     "output_type": "stream",
     "text": [
      "<class 'pandas.core.frame.DataFrame'>\n",
      "Int64Index: 500 entries, 0 to 499\n",
      "Data columns (total 3 columns):\n",
      " #   Column    Non-Null Count  Dtype         \n",
      "---  ------    --------------  -----         \n",
      " 0   Date      500 non-null    datetime64[ns]\n",
      " 1   Category  500 non-null    object        \n",
      " 2   Likes     500 non-null    int64         \n",
      "dtypes: datetime64[ns](1), int64(1), object(1)\n",
      "memory usage: 15.6+ KB\n",
      "None\n",
      "        Date Category  Likes\n",
      "0 2021-01-01     Food   7439\n",
      "1 2021-01-02   Travel   6673\n",
      "2 2021-01-03  Fashion   7219\n",
      "3 2021-01-04   Health   1304\n",
      "4 2021-01-05  Fitness   2390\n"
     ]
    }
   ],
   "source": [
    "# Remove null data\n",
    "df = df.dropna()\n",
    "\n",
    "# Remove duplicate data\n",
    "df = df.drop_duplicates()\n",
    "\n",
    "# Convert the 'Date' field to datetime format\n",
    "df['Date'] = pd.to_datetime(df['Date'])\n",
    "\n",
    "# Ensure the 'Likes' data is of integer type\n",
    "df['Likes'] = df['Likes'].astype(int)\n",
    "\n",
    "# Verify the changes\n",
    "print(df.info())\n",
    "print(df.head())\n"
   ]
  },
  {
   "cell_type": "code",
   "execution_count": 6,
   "metadata": {},
   "outputs": [
    {
     "data": {
      "image/png": "[encoded data removed]",
      "text/plain": [
       "<Figure size 432x288 with 1 Axes>"
      ]
     },
     "metadata": {
      "needs_background": "light"
     },
     "output_type": "display_data"
    },
    {
     "data": {
      "image/png": "[encoded data removed]",
      "text/plain": [
       "<Figure size 864x432 with 1 Axes>"
      ]
     },
     "metadata": {
      "needs_background": "light"
     },
     "output_type": "display_data"
    },
    {
     "name": "stdout",
     "output_type": "stream",
     "text": [
      "Mean of Likes: 5034.362\n",
      "Category\n",
      "Culture    4986.313433\n",
      "Family     4801.000000\n",
      "Fashion    5325.660377\n",
      "Fitness    5246.037736\n",
      "Food       5132.862069\n",
      "Health     4437.208333\n",
      "Music      5598.403226\n",
      "Travel     4937.539474\n",
      "Name: Likes, dtype: float64\n"
     ]
    }
   ],
   "source": [
    "# Visualize the data using seaborn in a histogram plot of the Likes\n",
    "sns.distplot(df['Likes'], kde=False, bins=30)\n",
    "plt.title('Distribution of Likes')\n",
    "plt.xlabel('Likes')\n",
    "plt.ylabel('Frequency')\n",
    "plt.show()\n",
    "\n",
    "# Create a boxplot with the x axis as 'Category', and the y axis as 'Likes'\n",
    "plt.figure(figsize=(12, 6))\n",
    "sns.boxplot(x='Category', y='Likes', data=df)\n",
    "plt.title('Likes by Category')\n",
    "plt.xlabel('Category')\n",
    "plt.ylabel('Likes')\n",
    "plt.xticks(rotation=45)\n",
    "plt.show()\n",
    "\n",
    "# Perform some statistics on the data\n",
    "# Print the mean of the 'Likes' category\n",
    "mean_likes = df['Likes'].mean()\n",
    "print(f\"Mean of Likes: {mean_likes}\")\n",
    "\n",
    "# Use the dataframe’s groupby method to print out the mean of each Category 'Likes'\n",
    "mean_likes_by_category = df.groupby('Category')['Likes'].mean()\n",
    "print(mean_likes_by_category)\n"
   ]
  },
  {
   "cell_type": "markdown",
   "metadata": {},
   "source": [
    "## Conclusion:\n",
    "\n",
    "In this data analysis project, we generated random social media data and analyzed it using various Python libraries. The process involved:\n",
    "\n",
    "*Importing Libraries: We imported pandas for data manipulation, numpy for generating random numbers, matplotlib and seaborn for visualizations, and random for random selections.*\n",
    "\n",
    "*Generating Data: We created a synthetic dataset with random dates, categories, and likes.*\n",
    "\n",
    "*Loading and Exploring Data: We loaded the data into a pandas DataFrame and explored it using methods like head(), info(), describe(), and value_counts().*\n",
    "\n",
    "*Cleaning Data: We cleaned the data by removing null values and duplicates, and ensuring the correct data types for each column.*\n",
    "\n",
    "*Visualizing and Analyzing Data: We visualized the distribution of likes using a histogram and analyzed the likes by category using a boxplot. We also performed statistical analysis to find the mean likes overall and by category.*\n",
    "\n",
    "# Key Findings:\n",
    "\n",
    "* Distribution of Likes: The distribution of likes shows that the majority of posts receive between 0 and 10,000 likes, with some variability.\n",
    "\n",
    "* Category Analysis: Different categories exhibit different patterns in the number of likes. For example, categories like Music and Travel might receive more likes on average compared to others.\n",
    "\n",
    "# Challenges and Improvements:\n",
    "\n",
    "* Generating realistic data that accurately reflects real-world social media interactions can be challenging. Incorporating more complex models or real datasets could improve the analysis.\n",
    "\n",
    "* Further analysis could include time series analysis to observe trends over time or more advanced statistical techniques to identify significant differences between categories.\n",
    "\n",
    "# Limitations\n",
    "\n",
    "* Synthetic Data: The analysis is based on synthetic data, which may not perfectly represent real-world scenarios.\n",
    "\n",
    "* Random Variability: The randomness in data generation might affect the accuracy of the insights.\n",
    "\n",
    "**This project demonstrates the use of data analysis tools and techniques to extract meaningful insights from data, showcasing skills that are valuable in data science and analysis roles.**\n",
    "\n"
   ]
  },
  {
   "cell_type": "code",
   "execution_count": null,
   "metadata": {},
   "outputs": [],
   "source": []
  }
 ],
 "metadata": {
  "kernelspec": {
   "display_name": "Python 3",
   "language": "python",
   "name": "python3"
  },
  "language_info": {
   "codemirror_mode": {
    "name": "ipython",
    "version": 3
   },
   "file_extension": ".py",
   "mimetype": "text/x-python",
   "name": "python",
   "nbconvert_exporter": "python",
   "pygments_lexer": "ipython3",
   "version": "3.7.6"
  }
 },
 "nbformat": 4,
 "nbformat_minor": 4
}
